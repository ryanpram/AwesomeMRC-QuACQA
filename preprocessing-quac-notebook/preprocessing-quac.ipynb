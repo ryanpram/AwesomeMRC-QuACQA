{
  "nbformat": 4,
  "nbformat_minor": 0,
  "metadata": {
    "colab": {
      "name": "ProjectAkhirPIL.ipynb",
      "provenance": []
    },
    "kernelspec": {
      "name": "python3",
      "display_name": "Python 3"
    },
    "language_info": {
      "name": "python"
    }
  },
  "cells": [
    {
      "cell_type": "markdown",
      "metadata": {
        "id": "RHFlqwinRPau"
      },
      "source": [
        "# Convert Datasets Quac to Squad2.0 format"
      ]
    },
    {
      "cell_type": "code",
      "metadata": {
        "id": "v2fzaQMPTG7a"
      },
      "source": [
        "!wget https://s3.amazonaws.com/my89public/quac/train_v0.2.json -o quac_train.json"
      ],
      "execution_count": null,
      "outputs": []
    },
    {
      "cell_type": "code",
      "metadata": {
        "id": "eyR-7iT7TaeR",
        "colab": {
          "base_uri": "https://localhost:8080/"
        },
        "outputId": "c66129e9-1174-486c-d62c-ee772ccb11bd"
      },
      "source": [
        "!wget https://s3.amazonaws.com/my89public/quac/val_v0.2.json -o quac_val.json"
      ],
      "execution_count": null,
      "outputs": [
        {
          "output_type": "stream",
          "text": [
            "^C\n"
          ],
          "name": "stdout"
        }
      ]
    },
    {
      "cell_type": "code",
      "metadata": {
        "colab": {
          "base_uri": "https://localhost:8080/"
        },
        "id": "dHGuCRIaZoR6",
        "outputId": "a53ec28f-6835-4818-f274-e28b582d57bb"
      },
      "source": [
        "!gdown --id 1MM4Fj8sQvaBL2FjmKyMHlcnWLVG5pGON -O quac_to_squad.py"
      ],
      "execution_count": null,
      "outputs": [
        {
          "output_type": "stream",
          "text": [
            "Downloading...\n",
            "From: https://drive.google.com/uc?id=1MM4Fj8sQvaBL2FjmKyMHlcnWLVG5pGON\n",
            "To: /content/quac_to_squad.py\n",
            "\r  0% 0.00/2.01k [00:00<?, ?B/s]\r100% 2.01k/2.01k [00:00<00:00, 1.56MB/s]\n"
          ],
          "name": "stdout"
        }
      ]
    },
    {
      "cell_type": "code",
      "metadata": {
        "colab": {
          "base_uri": "https://localhost:8080/"
        },
        "id": "LkkzgQ1xQcr3",
        "outputId": "a3a3ef7c-3c1e-4183-a7ca-11431acb3ac9"
      },
      "source": [
        "import json\n",
        "import random\n",
        "with open(\"train_v0.2.json\") as f:\n",
        "    doc = json.load(f)\n",
        "doc.keys(), type(doc[\"data\"]), len(doc[\"data\"])"
      ],
      "execution_count": null,
      "outputs": [
        {
          "output_type": "execute_result",
          "data": {
            "text/plain": [
              "(dict_keys(['data']), list, 11567)"
            ]
          },
          "metadata": {
            "tags": []
          },
          "execution_count": 106
        }
      ]
    },
    {
      "cell_type": "code",
      "metadata": {
        "colab": {
          "base_uri": "https://localhost:8080/"
        },
        "id": "eewB14OITmKc",
        "outputId": "d1bae23d-9490-4e1f-cdc6-52c28743f74e"
      },
      "source": [
        "doc['data'][0]"
      ],
      "execution_count": null,
      "outputs": [
        {
          "output_type": "execute_result",
          "data": {
            "text/plain": [
              "{'background': 'The Malayali people or Keralite people (also spelt Malayalee, Malayalam script: mlyaalli and keerlliiy[?]) are an Indian ethnic group originating from the present-day state of Kerala, located in South India. They are identified as native speakers of the Malayalam language, which is classified as part of the Dravidian family of languages. As they primarily live in Kerala, the word Keralite is used as an alternative to Malayali. According to the Indian census of 2011, there are approximately 33 million Malayalis in Kerala, making up 96.7% of the total population of the state.',\n",
              " 'paragraphs': [{'context': 'According to the Indian census of 2001, there were 30,803,747 speakers of Malayalam in Kerala, making up 93.2% of the total number of Malayalam speakers in India, and 96.7% of the total population of the state. There were a further 701,673 (2.1% of the total number) in Karnataka, 557,705 (1.7%) in Tamil Nadu and 406,358 (1.2%) in Maharashtra. The number of Malayalam speakers in Lakshadweep is 51,100, which is only 0.15% of the total number, but is as much as about 84% of the population of Lakshadweep. In all, Malayalis made up 3.22% of the total Indian population in 2001. Of the total 33,066,392 Malayalam speakers in India in 2001, 33,015,420 spoke the standard dialects, 19,643 spoke the Yerava dialect and 31,329 spoke non-standard regional variations like Eranadan. As per the 1991 census data, 28.85% of all Malayalam speakers in India spoke a second language and 19.64% of the total knew three or more languages.  Large numbers of Malayalis have settled in Bangalore, Mangalore, Delhi, Coimbatore, Hyderabad, Mumbai (Bombay), Ahmedabad, Pune, and Chennai (Madras). A large number of Malayalis have also emigrated to the Middle East, the United States, and Europe. Accessed November 22, 2014.</ref> including a large number of professionals. There were 7,093 Malayalam speakers in Australia in 2006. The 2001 Canadian census reported 7,070 people who listed Malayalam as their mother tongue, mostly in the Greater Toronto Area and Southern Ontario. In 2010, the Census of Population of Singapore reported that there were 26,348 Malayalees in Singapore. The 2006 New Zealand census reported 2,139 speakers. 134 Malayalam speaking households were reported in 1956 in Fiji. There is also a considerable Malayali population in the Persian Gulf regions, especially in Bahrain, Muscat, Doha, Dubai, Abu Dhabi, Kuwait and European region mainly in London.  World Malayalee Council, the organisation working with the Malayali diaspora across the Globe has embarked upon a project for making a data bank of the diaspora. CANNOTANSWER',\n",
              "   'id': 'C_69758fcdfc1f46baba0e92c0f3b0919c_1',\n",
              "   'qas': [{'answers': [{'answer_start': 51,\n",
              "       'text': '30,803,747 speakers of Malayalam in Kerala, making up 93.2% of the total number of Malayalam speakers in India,'}],\n",
              "     'followup': 'm',\n",
              "     'id': 'C_69758fcdfc1f46baba0e92c0f3b0919c_1_q#0',\n",
              "     'orig_answer': {'answer_start': 51,\n",
              "      'text': '30,803,747 speakers of Malayalam in Kerala, making up 93.2% of the total number of Malayalam speakers in India,'},\n",
              "     'question': 'Where is Malayali located?',\n",
              "     'yesno': 'x'},\n",
              "    {'answers': [{'answer_start': 640,\n",
              "       'text': '33,015,420 spoke the standard dialects, 19,643 spoke the Yerava dialect and 31,329 spoke non-standard regional variations like Eranadan.'}],\n",
              "     'followup': 'n',\n",
              "     'id': 'C_69758fcdfc1f46baba0e92c0f3b0919c_1_q#1',\n",
              "     'orig_answer': {'answer_start': 640,\n",
              "      'text': '33,015,420 spoke the standard dialects, 19,643 spoke the Yerava dialect and 31,329 spoke non-standard regional variations like Eranadan.'},\n",
              "     'question': 'What other languages are spoken there?',\n",
              "     'yesno': 'x'},\n",
              "    {'answers': [{'answer_start': 1862,\n",
              "       'text': 'World Malayalee Council, the organisation working with the Malayali diaspora across the Globe has embarked upon a project for making a data bank of the diaspora.'}],\n",
              "     'followup': 'n',\n",
              "     'id': 'C_69758fcdfc1f46baba0e92c0f3b0919c_1_q#2',\n",
              "     'orig_answer': {'answer_start': 1862,\n",
              "      'text': 'World Malayalee Council, the organisation working with the Malayali diaspora across the Globe has embarked upon a project for making a data bank of the diaspora.'},\n",
              "     'question': 'What else is this place known for?',\n",
              "     'yesno': 'x'},\n",
              "    {'answers': [{'answer_start': 2024, 'text': 'CANNOTANSWER'}],\n",
              "     'followup': 'n',\n",
              "     'id': 'C_69758fcdfc1f46baba0e92c0f3b0919c_1_q#3',\n",
              "     'orig_answer': {'answer_start': 2024, 'text': 'CANNOTANSWER'},\n",
              "     'question': 'Were they ever successful in doing this?',\n",
              "     'yesno': 'x'},\n",
              "    {'answers': [{'answer_start': 2024, 'text': 'CANNOTANSWER'}],\n",
              "     'followup': 'n',\n",
              "     'id': 'C_69758fcdfc1f46baba0e92c0f3b0919c_1_q#4',\n",
              "     'orig_answer': {'answer_start': 2024, 'text': 'CANNOTANSWER'},\n",
              "     'question': 'Do they produce anything from here?',\n",
              "     'yesno': 'x'},\n",
              "    {'answers': [{'answer_start': 1461,\n",
              "       'text': 'In 2010, the Census of Population of Singapore reported that there were 26,348 Malayalees in Singapore.'}],\n",
              "     'followup': 'n',\n",
              "     'id': 'C_69758fcdfc1f46baba0e92c0f3b0919c_1_q#5',\n",
              "     'orig_answer': {'answer_start': 1461,\n",
              "      'text': 'In 2010, the Census of Population of Singapore reported that there were 26,348 Malayalees in Singapore.'},\n",
              "     'question': 'Is this population still growing?',\n",
              "     'yesno': 'y'},\n",
              "    {'answers': [{'answer_start': 2024, 'text': 'CANNOTANSWER'}],\n",
              "     'followup': 'n',\n",
              "     'id': 'C_69758fcdfc1f46baba0e92c0f3b0919c_1_q#6',\n",
              "     'orig_answer': {'answer_start': 2024, 'text': 'CANNOTANSWER'},\n",
              "     'question': 'Is the country thriving?',\n",
              "     'yesno': 'x'}]}],\n",
              " 'section_title': 'Geographic distribution and population',\n",
              " 'title': 'Malayali'}"
            ]
          },
          "metadata": {
            "tags": []
          },
          "execution_count": 107
        }
      ]
    },
    {
      "cell_type": "code",
      "metadata": {
        "id": "uSjIXbUYTt6g"
      },
      "source": [
        "!python quac_to_squad.py --quac_file train_v0.2.json --output_file quac_train.json"
      ],
      "execution_count": null,
      "outputs": []
    },
    {
      "cell_type": "code",
      "metadata": {
        "id": "rDXaPZC9UQBL"
      },
      "source": [
        "!python quac_to_squad.py --quac_file val_v0.2.json --output_file quac_dev.json"
      ],
      "execution_count": null,
      "outputs": []
    },
    {
      "cell_type": "code",
      "metadata": {
        "colab": {
          "base_uri": "https://localhost:8080/"
        },
        "id": "k-is7zKTUZvW",
        "outputId": "09acef60-c620-483e-ce7a-52537ad51cd8"
      },
      "source": [
        "with open(\"quac_train.json\") as f:\n",
        "    doc1 = json.load(f)\n",
        "doc1.keys(), type(doc1[\"data\"]), len(doc1[\"data\"])"
      ],
      "execution_count": null,
      "outputs": [
        {
          "output_type": "execute_result",
          "data": {
            "text/plain": [
              "(dict_keys(['data', 'version']), list, 83568)"
            ]
          },
          "metadata": {
            "tags": []
          },
          "execution_count": 110
        }
      ]
    },
    {
      "cell_type": "code",
      "metadata": {
        "colab": {
          "base_uri": "https://localhost:8080/"
        },
        "id": "LgJnEdZ26KZO",
        "outputId": "e6603bc5-3068-4bf8-99c7-469f8db1c6f2"
      },
      "source": [
        "with open(\"quac_dev.json\") as f:\n",
        "    doc2 = json.load(f)\n",
        "doc2.keys(), type(doc2[\"data\"]), len(doc2[\"data\"])"
      ],
      "execution_count": null,
      "outputs": [
        {
          "output_type": "execute_result",
          "data": {
            "text/plain": [
              "(dict_keys(['data', 'version']), list, 7354)"
            ]
          },
          "metadata": {
            "tags": []
          },
          "execution_count": 111
        }
      ]
    },
    {
      "cell_type": "markdown",
      "metadata": {
        "id": "_y9OrpHP9AkM"
      },
      "source": [
        "# Splitting Data"
      ]
    },
    {
      "cell_type": "markdown",
      "metadata": {
        "id": "p0qAI1Ym9XbH"
      },
      "source": [
        "Splitting data dev to data validation and test with 50:50 proportion"
      ]
    },
    {
      "cell_type": "code",
      "metadata": {
        "id": "la1OTSnBUqzl"
      },
      "source": [
        "val_data = doc2['data']\n",
        "val_data_proportion = int(len(val_data) * 0.5)\n",
        "final_val_data = doc2['data'][:val_data_proportion]\n",
        "final_test_data = doc2['data'][val_data_proportion:]"
      ],
      "execution_count": null,
      "outputs": []
    },
    {
      "cell_type": "code",
      "metadata": {
        "colab": {
          "base_uri": "https://localhost:8080/"
        },
        "id": "hAD4l9MwDi8T",
        "outputId": "3a5c2aa9-4b1f-46da-a6aa-e4882073c4f1"
      },
      "source": [
        "len(final_val_data)"
      ],
      "execution_count": null,
      "outputs": [
        {
          "output_type": "execute_result",
          "data": {
            "text/plain": [
              "3677"
            ]
          },
          "metadata": {
            "tags": []
          },
          "execution_count": 113
        }
      ]
    },
    {
      "cell_type": "code",
      "metadata": {
        "colab": {
          "base_uri": "https://localhost:8080/"
        },
        "id": "x1GqnAlyDpw5",
        "outputId": "588300a1-1f7f-4b35-c2cc-7307ee12d050"
      },
      "source": [
        "len(final_test_data)"
      ],
      "execution_count": null,
      "outputs": [
        {
          "output_type": "execute_result",
          "data": {
            "text/plain": [
              "3677"
            ]
          },
          "metadata": {
            "tags": []
          },
          "execution_count": 114
        }
      ]
    },
    {
      "cell_type": "code",
      "metadata": {
        "id": "9rNQQHNDLmOI"
      },
      "source": [
        "val_data_json = {'data': final_val_data, 'version': '2.0'}\n",
        "test_data_json = {'data': final_test_data, 'version': '2.0'}"
      ],
      "execution_count": null,
      "outputs": []
    },
    {
      "cell_type": "code",
      "metadata": {
        "id": "S_ftbSjrG2hm"
      },
      "source": [
        "#output final validation and test data as json file\n",
        "with open('quac_val.json', 'w') as outfile:\n",
        "    json.dump(val_data_json, outfile)\n",
        "with open('quac_test.json', 'w') as outfile:\n",
        "    json.dump(test_data_json, outfile)"
      ],
      "execution_count": null,
      "outputs": []
    },
    {
      "cell_type": "markdown",
      "metadata": {
        "id": "0_6SBnX7Poc5"
      },
      "source": [
        "# EDA"
      ]
    },
    {
      "cell_type": "code",
      "metadata": {
        "colab": {
          "base_uri": "https://localhost:8080/"
        },
        "id": "BnzxDfEyPsyo",
        "outputId": "1ede7669-360f-445a-f738-695c831b143a"
      },
      "source": [
        "#load data\n",
        "#train data\n",
        "with open(\"quac_train.json\") as f:\n",
        "    doc_train = json.load(f)\n",
        "doc_train.keys(), type(doc_train[\"data\"]), len(doc_train[\"data\"])\n",
        "#val data\n",
        "with open(\"quac_val.json\") as f:\n",
        "    doc_val = json.load(f)\n",
        "doc_val.keys(), type(doc_val[\"data\"]), len(doc_val[\"data\"])\n",
        "#test data\n",
        "with open(\"quac_test.json\") as f:\n",
        "    doc_test = json.load(f)\n",
        "doc_test.keys(), type(doc_test[\"data\"]), len(doc_test[\"data\"])"
      ],
      "execution_count": null,
      "outputs": [
        {
          "output_type": "execute_result",
          "data": {
            "text/plain": [
              "(dict_keys(['data', 'version']), list, 3677)"
            ]
          },
          "metadata": {
            "tags": []
          },
          "execution_count": 117
        }
      ]
    },
    {
      "cell_type": "code",
      "metadata": {
        "id": "iSjVXJqCRXCi"
      },
      "source": [
        "# check for unanswerable question and answerable question statistic\n",
        "train_no_answer_count = 0\n",
        "train_has_answer_count = 0\n",
        "val_no_answer_count = 0\n",
        "val_has_answer_count = 0\n",
        "test_no_answer_count = 0\n",
        "test_has_answer_count = 0\n",
        "\n",
        "for data in doc_train[\"data\"]:\n",
        "  if data[\"paragraphs\"][0]['qas'][0]['is_impossible']:\n",
        "    train_no_answer_count +=1\n",
        "  else :\n",
        "    train_has_answer_count +=1\n",
        "\n",
        "for data in doc_val[\"data\"]:\n",
        "  if data[\"paragraphs\"][0]['qas'][0]['is_impossible']:\n",
        "    val_no_answer_count +=1\n",
        "  else :\n",
        "    val_has_answer_count +=1\n",
        "\n",
        "for data in doc_test[\"data\"]:\n",
        "  if data[\"paragraphs\"][0]['qas'][0]['is_impossible']:\n",
        "    test_no_answer_count +=1\n",
        "  else :\n",
        "    test_has_answer_count +=1"
      ],
      "execution_count": null,
      "outputs": []
    },
    {
      "cell_type": "code",
      "metadata": {
        "colab": {
          "base_uri": "https://localhost:8080/"
        },
        "id": "CexkMCjFXK2t",
        "outputId": "2e4942ae-c3dc-47e2-e07b-284d3edcb81d"
      },
      "source": [
        "print('len of train no answer:', train_no_answer_count)\n",
        "print('len of train has answer:', train_has_answer_count)\n",
        "print('len of val no answer:', val_no_answer_count)\n",
        "print('len of val has answer:', val_has_answer_count)\n",
        "print('len of test no answer:', test_no_answer_count)\n",
        "print('len of test has answer:', test_has_answer_count)"
      ],
      "execution_count": null,
      "outputs": [
        {
          "output_type": "stream",
          "text": [
            "len of train no answer: 14459\n",
            "len of train has answer: 69109\n",
            "len of val no answer: 780\n",
            "len of val has answer: 2897\n",
            "len of test no answer: 706\n",
            "len of test has answer: 2971\n"
          ],
          "name": "stdout"
        }
      ]
    },
    {
      "cell_type": "markdown",
      "metadata": {
        "id": "konz6zWYa2pC"
      },
      "source": [
        "# Create Small Dataset"
      ]
    },
    {
      "cell_type": "code",
      "metadata": {
        "id": "zFJhOlPVfZIj"
      },
      "source": [
        "#specify small dataset size \n",
        "data_train_total = 21000\n",
        "data_val_total = 1000\n",
        "data_test_total = 1000"
      ],
      "execution_count": null,
      "outputs": []
    },
    {
      "cell_type": "code",
      "metadata": {
        "id": "A37UC6K6foFc"
      },
      "source": [
        "#get subset from original dataset to create small dataset\n",
        "train_data = doc_train['data'][:data_train_total]\n",
        "val_data = doc_val['data'][:data_val_total]\n",
        "test_data = doc_test['data'][:data_test_total]\n",
        "\n",
        "small_train_json = {'data': train_data, 'version': '2.0'}\n",
        "small_val_json = {'data': val_data, 'version': '2.0'}\n",
        "small_test_json = {'data': test_data, 'version': '2.0'}"
      ],
      "execution_count": null,
      "outputs": []
    },
    {
      "cell_type": "code",
      "metadata": {
        "id": "HsXhZLLobQ0Y",
        "colab": {
          "base_uri": "https://localhost:8080/"
        },
        "outputId": "6d48a464-3416-4c30-8d71-f99a34033cd4"
      },
      "source": [
        "# check for unanswerable question and answerable question statistic\n",
        "train_no_answer_count = 0\n",
        "train_has_answer_count = 0\n",
        "val_no_answer_count = 0\n",
        "val_has_answer_count = 0\n",
        "test_no_answer_count = 0\n",
        "test_has_answer_count = 0\n",
        "\n",
        "for data in small_train_json[\"data\"]:\n",
        "  if data[\"paragraphs\"][0]['qas'][0]['is_impossible']:\n",
        "    train_no_answer_count +=1\n",
        "  else :\n",
        "    train_has_answer_count +=1\n",
        "\n",
        "for data in small_val_json[\"data\"]:\n",
        "  if data[\"paragraphs\"][0]['qas'][0]['is_impossible']:\n",
        "    val_no_answer_count +=1\n",
        "  else :\n",
        "    val_has_answer_count +=1\n",
        "\n",
        "for data in small_test_json[\"data\"]:\n",
        "  if data[\"paragraphs\"][0]['qas'][0]['is_impossible']:\n",
        "    test_no_answer_count +=1\n",
        "  else :\n",
        "    test_has_answer_count +=1\n",
        "\n",
        "print('len of train no answer:', train_no_answer_count)\n",
        "print('len of train has answer:', train_has_answer_count)\n",
        "print('len of val no answer:', val_no_answer_count)\n",
        "print('len of val has answer:', val_has_answer_count)\n",
        "print('len of test no answer:', test_no_answer_count)\n",
        "print('len of test has answer:', test_has_answer_count)"
      ],
      "execution_count": null,
      "outputs": [
        {
          "output_type": "stream",
          "text": [
            "len of train no answer: 3611\n",
            "len of train has answer: 17389\n",
            "len of val no answer: 197\n",
            "len of val has answer: 803\n",
            "len of test no answer: 193\n",
            "len of test has answer: 807\n"
          ],
          "name": "stdout"
        }
      ]
    },
    {
      "cell_type": "code",
      "metadata": {
        "id": "_iL5sdD1kdZu"
      },
      "source": [
        "#export json \n",
        "with open('small_quac_train.json', 'w') as outfile:\n",
        "    json.dump(small_train_json, outfile)\n",
        "with open('small_quac_val.json', 'w') as outfile:\n",
        "    json.dump(small_val_json, outfile)\n",
        "with open('small_quac_test.json', 'w') as outfile:\n",
        "    json.dump(small_test_json, outfile)"
      ],
      "execution_count": null,
      "outputs": []
    },
    {
      "cell_type": "code",
      "metadata": {
        "id": "EKov96Q7m_Wq"
      },
      "source": [
        ""
      ],
      "execution_count": null,
      "outputs": []
    }
  ]
}